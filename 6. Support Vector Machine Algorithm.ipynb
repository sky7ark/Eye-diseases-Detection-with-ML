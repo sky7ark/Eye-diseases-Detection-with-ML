{
 "cells": [
  {
   "cell_type": "code",
   "execution_count": 1,
   "metadata": {},
   "outputs": [],
   "source": [
    "import numpy as np\n",
    "import pandas as pd\n",
    "import matplotlib.pyplot as plt"
   ]
  },
  {
   "cell_type": "code",
   "execution_count": 2,
   "metadata": {},
   "outputs": [
    {
     "data": {
      "text/html": [
       "<div>\n",
       "<style scoped>\n",
       "    .dataframe tbody tr th:only-of-type {\n",
       "        vertical-align: middle;\n",
       "    }\n",
       "\n",
       "    .dataframe tbody tr th {\n",
       "        vertical-align: top;\n",
       "    }\n",
       "\n",
       "    .dataframe thead th {\n",
       "        text-align: right;\n",
       "    }\n",
       "</style>\n",
       "<table border=\"1\" class=\"dataframe\">\n",
       "  <thead>\n",
       "    <tr style=\"text-align: right;\">\n",
       "      <th></th>\n",
       "      <th>Patients</th>\n",
       "      <th>Clouldy, blurry or foggy vision</th>\n",
       "      <th>Pressure in Eye?</th>\n",
       "      <th>Injury to the Eye</th>\n",
       "      <th>Excessive dryness</th>\n",
       "      <th>Red eye</th>\n",
       "      <th>Cornea increase in size</th>\n",
       "      <th>Color Identifying Problem</th>\n",
       "      <th>Double Vision</th>\n",
       "      <th>Have eye problem in family</th>\n",
       "      <th>...</th>\n",
       "      <th>Diabetics</th>\n",
       "      <th>Myopia</th>\n",
       "      <th>Trouble with glasses</th>\n",
       "      <th>Hard to see at night</th>\n",
       "      <th>Visible Whiteness</th>\n",
       "      <th>Mass pain</th>\n",
       "      <th>Vomiting</th>\n",
       "      <th>Water drops from eyes continuously</th>\n",
       "      <th>Presents of light when eye lid close</th>\n",
       "      <th>Result/Outcome</th>\n",
       "    </tr>\n",
       "  </thead>\n",
       "  <tbody>\n",
       "    <tr>\n",
       "      <th>0</th>\n",
       "      <td>Alam</td>\n",
       "      <td>0</td>\n",
       "      <td>1</td>\n",
       "      <td>0</td>\n",
       "      <td>0</td>\n",
       "      <td>0</td>\n",
       "      <td>0</td>\n",
       "      <td>0</td>\n",
       "      <td>0</td>\n",
       "      <td>1</td>\n",
       "      <td>...</td>\n",
       "      <td>1</td>\n",
       "      <td>0</td>\n",
       "      <td>0</td>\n",
       "      <td>0</td>\n",
       "      <td>0</td>\n",
       "      <td>0</td>\n",
       "      <td>0</td>\n",
       "      <td>0</td>\n",
       "      <td>0</td>\n",
       "      <td>Oculer hypertension</td>\n",
       "    </tr>\n",
       "    <tr>\n",
       "      <th>1</th>\n",
       "      <td>Kadir</td>\n",
       "      <td>1</td>\n",
       "      <td>0</td>\n",
       "      <td>0</td>\n",
       "      <td>0</td>\n",
       "      <td>0</td>\n",
       "      <td>0</td>\n",
       "      <td>1</td>\n",
       "      <td>1</td>\n",
       "      <td>0</td>\n",
       "      <td>...</td>\n",
       "      <td>1</td>\n",
       "      <td>1</td>\n",
       "      <td>1</td>\n",
       "      <td>0</td>\n",
       "      <td>0</td>\n",
       "      <td>0</td>\n",
       "      <td>0</td>\n",
       "      <td>0</td>\n",
       "      <td>0</td>\n",
       "      <td>Catracts</td>\n",
       "    </tr>\n",
       "    <tr>\n",
       "      <th>2</th>\n",
       "      <td>Farid</td>\n",
       "      <td>1</td>\n",
       "      <td>0</td>\n",
       "      <td>0</td>\n",
       "      <td>0</td>\n",
       "      <td>0</td>\n",
       "      <td>0</td>\n",
       "      <td>1</td>\n",
       "      <td>0</td>\n",
       "      <td>1</td>\n",
       "      <td>...</td>\n",
       "      <td>0</td>\n",
       "      <td>1</td>\n",
       "      <td>0</td>\n",
       "      <td>1</td>\n",
       "      <td>0</td>\n",
       "      <td>0</td>\n",
       "      <td>0</td>\n",
       "      <td>0</td>\n",
       "      <td>0</td>\n",
       "      <td>Catracts</td>\n",
       "    </tr>\n",
       "    <tr>\n",
       "      <th>3</th>\n",
       "      <td>Rahim</td>\n",
       "      <td>0</td>\n",
       "      <td>0</td>\n",
       "      <td>0</td>\n",
       "      <td>1</td>\n",
       "      <td>0</td>\n",
       "      <td>0</td>\n",
       "      <td>0</td>\n",
       "      <td>0</td>\n",
       "      <td>1</td>\n",
       "      <td>...</td>\n",
       "      <td>1</td>\n",
       "      <td>0</td>\n",
       "      <td>0</td>\n",
       "      <td>0</td>\n",
       "      <td>1</td>\n",
       "      <td>0</td>\n",
       "      <td>0</td>\n",
       "      <td>0</td>\n",
       "      <td>0</td>\n",
       "      <td>Bulgy Vision</td>\n",
       "    </tr>\n",
       "    <tr>\n",
       "      <th>4</th>\n",
       "      <td>Barsha</td>\n",
       "      <td>0</td>\n",
       "      <td>0</td>\n",
       "      <td>0</td>\n",
       "      <td>0</td>\n",
       "      <td>1</td>\n",
       "      <td>0</td>\n",
       "      <td>0</td>\n",
       "      <td>0</td>\n",
       "      <td>1</td>\n",
       "      <td>...</td>\n",
       "      <td>0</td>\n",
       "      <td>0</td>\n",
       "      <td>0</td>\n",
       "      <td>0</td>\n",
       "      <td>0</td>\n",
       "      <td>1</td>\n",
       "      <td>1</td>\n",
       "      <td>0</td>\n",
       "      <td>0</td>\n",
       "      <td>Glaucoma ACG</td>\n",
       "    </tr>\n",
       "  </tbody>\n",
       "</table>\n",
       "<p>5 rows × 21 columns</p>\n",
       "</div>"
      ],
      "text/plain": [
       "  Patients  Clouldy, blurry or foggy vision  Pressure in Eye?  \\\n",
       "0     Alam                                0                 1   \n",
       "1    Kadir                                1                 0   \n",
       "2    Farid                                1                 0   \n",
       "3    Rahim                                0                 0   \n",
       "4   Barsha                                0                 0   \n",
       "\n",
       "   Injury to the Eye  Excessive dryness  Red eye  Cornea increase in size  \\\n",
       "0                  0                  0        0                        0   \n",
       "1                  0                  0        0                        0   \n",
       "2                  0                  0        0                        0   \n",
       "3                  0                  1        0                        0   \n",
       "4                  0                  0        1                        0   \n",
       "\n",
       "   Color Identifying Problem  Double Vision  Have eye problem in family  ...  \\\n",
       "0                          0              0                           1  ...   \n",
       "1                          1              1                           0  ...   \n",
       "2                          1              0                           1  ...   \n",
       "3                          0              0                           1  ...   \n",
       "4                          0              0                           1  ...   \n",
       "\n",
       "   Diabetics  Myopia  Trouble with glasses  Hard to see at night  \\\n",
       "0          1       0                     0                     0   \n",
       "1          1       1                     1                     0   \n",
       "2          0       1                     0                     1   \n",
       "3          1       0                     0                     0   \n",
       "4          0       0                     0                     0   \n",
       "\n",
       "   Visible Whiteness  Mass pain  Vomiting  Water drops from eyes continuously  \\\n",
       "0                  0          0         0                                   0   \n",
       "1                  0          0         0                                   0   \n",
       "2                  0          0         0                                   0   \n",
       "3                  1          0         0                                   0   \n",
       "4                  0          1         1                                   0   \n",
       "\n",
       "   Presents of light when eye lid close       Result/Outcome  \n",
       "0                                     0  Oculer hypertension  \n",
       "1                                     0             Catracts  \n",
       "2                                     0             Catracts  \n",
       "3                                     0         Bulgy Vision  \n",
       "4                                     0         Glaucoma ACG  \n",
       "\n",
       "[5 rows x 21 columns]"
      ]
     },
     "execution_count": 2,
     "metadata": {},
     "output_type": "execute_result"
    }
   ],
   "source": [
    "data = pd.read_csv('DatasetDocBot_final.csv')\n",
    "data.head(5)"
   ]
  },
  {
   "cell_type": "code",
   "execution_count": 3,
   "metadata": {},
   "outputs": [],
   "source": [
    "real_x = data.iloc[:,1:20].values  # I/O = IV\n",
    "real_y = data.iloc[:,20].values   # O/P = DV"
   ]
  },
  {
   "cell_type": "markdown",
   "metadata": {},
   "source": [
    "# ekhon Data ke I/O and O/P er modde Devide korbo"
   ]
  },
  {
   "cell_type": "code",
   "execution_count": 4,
   "metadata": {},
   "outputs": [
    {
     "data": {
      "text/plain": [
       "array([[0, 1, 0, ..., 0, 0, 0],\n",
       "       [1, 0, 0, ..., 0, 0, 0],\n",
       "       [1, 0, 0, ..., 0, 0, 0],\n",
       "       ...,\n",
       "       [0, 1, 0, ..., 1, 1, 0],\n",
       "       [0, 0, 0, ..., 1, 0, 0],\n",
       "       [0, 0, 0, ..., 1, 0, 0]], dtype=int64)"
      ]
     },
     "execution_count": 4,
     "metadata": {},
     "output_type": "execute_result"
    }
   ],
   "source": [
    "real_x"
   ]
  },
  {
   "cell_type": "code",
   "execution_count": 5,
   "metadata": {},
   "outputs": [
    {
     "data": {
      "text/plain": [
       "array(['Oculer hypertension', 'Catracts', 'Catracts', 'Bulgy Vision',\n",
       "       'Glaucoma ACG', 'Glaucoma ACG', 'Catracts', 'Congenital Glaucoma',\n",
       "       'Bulgy Vision', 'Glaucoma ACG', 'Bulgy Vision', 'Bulgy Vision',\n",
       "       'Bulgy Vision', 'Bulgy Vision', 'Bulgy Vision', 'Bulgy Vision',\n",
       "       'Bulgy Vision', 'Bulgy Vision', 'Bulgy Vision', 'Bulgy Vision',\n",
       "       'Bulgy Vision', 'Bulgy Vision', 'Bulgy Vision', 'Bulgy Vision',\n",
       "       'Bulgy Vision', 'Oculer hypertension', 'Oculer hypertension',\n",
       "       'Oculer hypertension', 'Oculer hypertension',\n",
       "       'Oculer hypertension', 'Oculer hypertension',\n",
       "       'Oculer hypertension', 'Oculer hypertension',\n",
       "       'Oculer hypertension', 'Oculer hypertension',\n",
       "       'Oculer hypertension', 'Oculer hypertension',\n",
       "       'Oculer hypertension', 'Oculer hypertension',\n",
       "       'Oculer hypertension', 'Oculer hypertension',\n",
       "       'Oculer hypertension', 'Oculer hypertension',\n",
       "       'Oculer hypertension', 'Oculer hypertension',\n",
       "       'Oculer hypertension', 'Oculer hypertension',\n",
       "       'Oculer hypertension', 'Oculer hypertension',\n",
       "       'Oculer hypertension', 'Oculer hypertension',\n",
       "       'Oculer hypertension', 'Oculer hypertension',\n",
       "       'Oculer hypertension', 'Oculer hypertension',\n",
       "       'Oculer hypertension', 'Oculer hypertension',\n",
       "       'Oculer hypertension', 'Oculer hypertension',\n",
       "       'Oculer hypertension', 'Oculer hypertension',\n",
       "       'Oculer hypertension', 'Oculer hypertension',\n",
       "       'Oculer hypertension', 'Oculer hypertension',\n",
       "       'Oculer hypertension', 'Oculer hypertension',\n",
       "       'Oculer hypertension', 'Oculer hypertension',\n",
       "       'Oculer hypertension', 'Oculer hypertension',\n",
       "       'Oculer hypertension', 'Oculer hypertension',\n",
       "       'Oculer hypertension', 'Oculer hypertension',\n",
       "       'Oculer hypertension', 'Oculer hypertension',\n",
       "       'Oculer hypertension', 'Oculer hypertension',\n",
       "       'Oculer hypertension', 'Oculer hypertension',\n",
       "       'Oculer hypertension', 'Oculer hypertension',\n",
       "       'Oculer hypertension', 'Oculer hypertension',\n",
       "       'Oculer hypertension', 'Oculer hypertension',\n",
       "       'Oculer hypertension', 'Oculer hypertension',\n",
       "       'Oculer hypertension', 'Oculer hypertension',\n",
       "       'Oculer hypertension', 'Oculer hypertension',\n",
       "       'Oculer hypertension', 'Oculer hypertension',\n",
       "       'Oculer hypertension', 'Oculer hypertension',\n",
       "       'Oculer hypertension', 'Oculer hypertension',\n",
       "       'Oculer hypertension', 'Oculer hypertension',\n",
       "       'Oculer hypertension', 'Oculer hypertension',\n",
       "       'Oculer hypertension', 'Oculer hypertension',\n",
       "       'Oculer hypertension', 'Oculer hypertension',\n",
       "       'Oculer hypertension', 'Oculer hypertension',\n",
       "       'Oculer hypertension', 'Oculer hypertension',\n",
       "       'Oculer hypertension', 'Oculer hypertension',\n",
       "       'Oculer hypertension', 'Oculer hypertension',\n",
       "       'Oculer hypertension', 'Oculer hypertension',\n",
       "       'Oculer hypertension', 'Oculer hypertension',\n",
       "       'Oculer hypertension', 'Oculer hypertension',\n",
       "       'Oculer hypertension', 'Oculer hypertension',\n",
       "       'Oculer hypertension', 'Oculer hypertension',\n",
       "       'Oculer hypertension', 'Oculer hypertension',\n",
       "       'Oculer hypertension', 'Oculer hypertension',\n",
       "       'Oculer hypertension', 'Oculer hypertension',\n",
       "       'Oculer hypertension', 'Oculer hypertension',\n",
       "       'Oculer hypertension', 'Oculer hypertension',\n",
       "       'Oculer hypertension', 'Oculer hypertension',\n",
       "       'Oculer hypertension', 'Oculer hypertension',\n",
       "       'Oculer hypertension', 'Oculer hypertension',\n",
       "       'Oculer hypertension', 'Oculer hypertension',\n",
       "       'Oculer hypertension', 'Oculer hypertension',\n",
       "       'Oculer hypertension', 'Oculer hypertension',\n",
       "       'Oculer hypertension', 'Oculer hypertension',\n",
       "       'Oculer hypertension', 'Oculer hypertension',\n",
       "       'Oculer hypertension', 'Oculer hypertension',\n",
       "       'Oculer hypertension', 'Oculer hypertension',\n",
       "       'Oculer hypertension', 'Oculer hypertension',\n",
       "       'Oculer hypertension', 'Oculer hypertension',\n",
       "       'Oculer hypertension', 'Oculer hypertension',\n",
       "       'Oculer hypertension', 'Oculer hypertension',\n",
       "       'Oculer hypertension', 'Oculer hypertension',\n",
       "       'Oculer hypertension', 'Oculer hypertension',\n",
       "       'Oculer hypertension', 'Oculer hypertension',\n",
       "       'Oculer hypertension', 'Oculer hypertension',\n",
       "       'Oculer hypertension', 'Oculer hypertension',\n",
       "       'Oculer hypertension', 'Oculer hypertension',\n",
       "       'Oculer hypertension', 'Oculer hypertension',\n",
       "       'Oculer hypertension', 'Oculer hypertension',\n",
       "       'Oculer hypertension', 'Oculer hypertension',\n",
       "       'Oculer hypertension', 'Oculer hypertension',\n",
       "       'Oculer hypertension', 'Oculer hypertension',\n",
       "       'Oculer hypertension', 'Oculer hypertension',\n",
       "       'Oculer hypertension', 'Oculer hypertension',\n",
       "       'Oculer hypertension', 'Oculer hypertension',\n",
       "       'Oculer hypertension', 'Oculer hypertension',\n",
       "       'Oculer hypertension', ' Bulgy Vision', ' Bulgy Vision',\n",
       "       ' Bulgy Vision', ' Bulgy Vision', ' Bulgy Vision', ' Bulgy Vision',\n",
       "       ' Bulgy Vision', ' Bulgy Vision', ' Bulgy Vision', ' Bulgy Vision',\n",
       "       ' Bulgy Vision', ' Bulgy Vision', ' Bulgy Vision', ' Bulgy Vision',\n",
       "       ' Bulgy Vision', ' Bulgy Vision', ' Bulgy Vision', ' Bulgy Vision',\n",
       "       ' Bulgy Vision', ' Bulgy Vision', ' Bulgy Vision', ' Bulgy Vision',\n",
       "       ' Bulgy Vision', ' Bulgy Vision', 'Catracts', 'Catracts',\n",
       "       'Catracts', 'Catracts', 'Catracts', 'Catracts', 'Catracts',\n",
       "       'Catracts', 'Catracts', 'Catracts', 'Catracts', 'Catracts',\n",
       "       'Catracts', 'Catracts', 'Catracts', 'Catracts', 'Catracts',\n",
       "       'Catracts', 'Catracts', 'Catracts', 'Catracts', 'Catracts',\n",
       "       'Catracts', 'Catracts', 'Catracts', 'Catracts', 'Catracts',\n",
       "       'Catracts', 'Catracts', 'Catracts', 'Catracts', 'Catracts',\n",
       "       'Catracts', 'Catracts', 'Catracts', 'Catracts', 'Catracts',\n",
       "       'Catracts', 'Catracts', 'Catracts', 'Catracts', 'Catracts',\n",
       "       'Catracts', 'Catracts', 'Catracts', 'Catracts', 'Catracts',\n",
       "       'Catracts', 'Catracts', 'Catracts', 'Catracts', 'Catracts',\n",
       "       'Catracts', 'Catracts', 'Catracts', 'Catracts', 'Catracts',\n",
       "       'Catracts', 'Catracts', 'Catracts', 'Catracts', 'Catracts',\n",
       "       'Catracts', 'Catracts', 'Catracts', 'Catracts', 'Catracts',\n",
       "       'Catracts', 'Catracts', 'Catracts', 'Catracts', 'Catracts',\n",
       "       'Catracts', 'Catracts', 'Catracts', 'Catracts', 'Catracts',\n",
       "       'Catracts', 'Catracts', 'Catracts', 'Catracts', 'Catracts',\n",
       "       'Catracts', 'Catracts', 'Catracts', 'Catracts', 'Catracts',\n",
       "       'Catracts', 'Catracts', 'Catracts', 'Catracts', 'Catracts',\n",
       "       'Catracts', 'Catracts', 'Catracts', 'Catracts', 'Catracts',\n",
       "       'Catracts', 'Catracts', 'Catracts', 'Catracts', 'Catracts',\n",
       "       'Catracts', 'Catracts', 'Catracts', 'Catracts', 'Catracts',\n",
       "       'Catracts', 'Catracts', 'Catracts', 'Catracts', 'Catracts',\n",
       "       'Catracts', 'Catracts', 'Catracts', 'Catracts', 'Catracts',\n",
       "       'Catracts', 'Catracts', 'Catracts', 'Catracts', 'Catracts',\n",
       "       'Catracts', 'Catracts', 'Catracts', 'Catracts', 'Catracts',\n",
       "       'Catracts', 'Catracts', 'Catracts', 'Catracts', 'Catracts',\n",
       "       'Catracts', 'Catracts', 'Catracts', 'Catracts', 'Catracts',\n",
       "       'Catracts', 'Catracts', 'Catracts', 'Catracts', 'Catracts',\n",
       "       'Catracts', 'Catracts', 'Catracts', 'Catracts', 'Catracts',\n",
       "       'Catracts', 'Catracts', 'Catracts', 'Catracts', 'Catracts',\n",
       "       'Catracts', 'Catracts', 'Catracts', 'Catracts', 'Catracts',\n",
       "       'Catracts', 'Catracts', 'Catracts', 'Catracts', 'Catracts',\n",
       "       'Catracts', 'Catracts', 'Catracts', 'Catracts', 'Catracts',\n",
       "       'Catracts', 'Catracts', 'Catracts', 'Catracts', 'Catracts',\n",
       "       'Catracts', 'Catracts', 'Catracts', 'Catracts', 'Catracts',\n",
       "       'Catracts', 'Catracts', 'Catracts', 'Catracts', 'Catracts',\n",
       "       'Catracts', 'Catracts', 'Catracts', 'Catracts', 'Catracts',\n",
       "       'Catracts', 'Catracts', 'Catracts', 'Catracts', 'Catracts',\n",
       "       'Catracts', 'Catracts', 'Catracts', 'Catracts', 'Catracts',\n",
       "       'Catracts', 'Catracts', 'Catracts', 'Catracts', 'Catracts',\n",
       "       'Catracts', 'Catracts', 'Catracts', 'Catracts', 'Catracts',\n",
       "       'Catracts', 'Catracts', 'Catracts', 'Catracts', 'Catracts',\n",
       "       'Catracts', 'Catracts', 'Catracts', 'Catracts', 'Catracts',\n",
       "       'Catracts', 'Catracts', 'Catracts', 'Catracts', 'Catracts',\n",
       "       'Catracts', 'Catracts', 'Catracts', 'Catracts', 'Catracts',\n",
       "       'Catracts', 'Catracts', 'Catracts', 'Catracts', 'Catracts',\n",
       "       'Catracts', 'Congenital Glaucoma', 'Congenital Glaucoma',\n",
       "       'Congenital Glaucoma', 'Congenital Glaucoma',\n",
       "       'Congenital Glaucoma', 'Congenital Glaucoma',\n",
       "       'Congenital Glaucoma', 'Congenital Glaucoma',\n",
       "       'Congenital Glaucoma', 'Congenital Glaucoma',\n",
       "       'Congenital Glaucoma', 'Congenital Glaucoma',\n",
       "       'Congenital Glaucoma', 'Congenital Glaucoma',\n",
       "       'Congenital Glaucoma', 'Congenital Glaucoma',\n",
       "       'Congenital Glaucoma', 'Congenital Glaucoma',\n",
       "       'Congenital Glaucoma', 'Congenital Glaucoma',\n",
       "       'Congenital Glaucoma', 'Congenital Glaucoma',\n",
       "       'Congenital Glaucoma', 'Congenital Glaucoma',\n",
       "       'Congenital Glaucoma', 'Congenital Glaucoma',\n",
       "       'Congenital Glaucoma', 'Congenital Glaucoma',\n",
       "       'Congenital Glaucoma', 'Congenital Glaucoma',\n",
       "       'Congenital Glaucoma', 'Congenital Glaucoma',\n",
       "       'Congenital Glaucoma', 'Congenital Glaucoma',\n",
       "       'Congenital Glaucoma', 'Congenital Glaucoma',\n",
       "       'Congenital Glaucoma', 'Congenital Glaucoma',\n",
       "       'Congenital Glaucoma', 'Congenital Glaucoma',\n",
       "       'Congenital Glaucoma', 'Congenital Glaucoma',\n",
       "       'Congenital Glaucoma', 'Congenital Glaucoma',\n",
       "       'Congenital Glaucoma', 'Congenital Glaucoma',\n",
       "       'Congenital Glaucoma', 'Congenital Glaucoma',\n",
       "       'Congenital Glaucoma', 'Congenital Glaucoma',\n",
       "       'Congenital Glaucoma', 'Congenital Glaucoma',\n",
       "       'Congenital Glaucoma', 'Congenital Glaucoma',\n",
       "       'Congenital Glaucoma', 'Congenital Glaucoma', 'Glaucoma ACG',\n",
       "       'Glaucoma ACG', 'Glaucoma ACG', 'Glaucoma ACG', 'Glaucoma ACG',\n",
       "       'Glaucoma ACG', 'Glaucoma ACG', 'Glaucoma ACG', 'Glaucoma ACG',\n",
       "       'Glaucoma ACG', 'Glaucoma ACG', 'Glaucoma ACG', 'Glaucoma ACG',\n",
       "       'Glaucoma ACG', 'Glaucoma ACG', 'Glaucoma ACG', 'Glaucoma ACG',\n",
       "       'Glaucoma ACG', 'Glaucoma ACG', 'Glaucoma ACG', 'Glaucoma ACG',\n",
       "       'Glaucoma ACG', 'Glaucoma ACG', 'Glaucoma ACG', 'Glaucoma ACG',\n",
       "       'Glaucoma ACG', 'Glaucoma ACG', 'Glaucoma ACG', 'Glaucoma ACG',\n",
       "       'Glaucoma ACG', 'Glaucoma ACG', 'Glaucoma ACG', 'Glaucoma ACG',\n",
       "       'Glaucoma ACG', 'Glaucoma ACG', 'Glaucoma ACG', 'Glaucoma ACG',\n",
       "       'Glaucoma ACG', 'Glaucoma ACG', 'Glaucoma ACG', 'Glaucoma ACG',\n",
       "       'Glaucoma ACG', 'Glaucoma ACG', 'Glaucoma ACG', 'Glaucoma ACG',\n",
       "       'Glaucoma ACG', 'Glaucoma ACG', 'Glaucoma ACG', 'Glaucoma ACG',\n",
       "       'Glaucoma ACG', 'Glaucoma ACG', 'Glaucoma ACG', 'Glaucoma ACG',\n",
       "       'Glaucoma ACG', 'Glaucoma ACG', 'Glaucoma ACG'], dtype=object)"
      ]
     },
     "execution_count": 5,
     "metadata": {},
     "output_type": "execute_result"
    }
   ],
   "source": [
    "real_y"
   ]
  },
  {
   "cell_type": "code",
   "execution_count": 6,
   "metadata": {},
   "outputs": [],
   "source": [
    "from sklearn.model_selection import train_test_split # aage eta use hotw-->from sklearn.cross_validation import train_test_split\n",
    "training_x,testing_x,training_y,testing_y = train_test_split(real_x,real_y,test_size = 0.25, random_state=0)"
   ]
  },
  {
   "cell_type": "markdown",
   "metadata": {},
   "source": [
    "# I/O or O/P e Data ke Split korbo"
   ]
  },
  {
   "cell_type": "code",
   "execution_count": 7,
   "metadata": {},
   "outputs": [
    {
     "data": {
      "text/plain": [
       "array([[1, 0, 0, ..., 0, 0, 0],\n",
       "       [1, 0, 1, ..., 0, 0, 0],\n",
       "       [0, 1, 1, ..., 0, 1, 0],\n",
       "       ...,\n",
       "       [1, 0, 0, ..., 0, 0, 0],\n",
       "       [0, 1, 0, ..., 0, 1, 0],\n",
       "       [0, 0, 0, ..., 1, 0, 0]], dtype=int64)"
      ]
     },
     "execution_count": 7,
     "metadata": {},
     "output_type": "execute_result"
    }
   ],
   "source": [
    "training_x"
   ]
  },
  {
   "cell_type": "code",
   "execution_count": 8,
   "metadata": {},
   "outputs": [
    {
     "data": {
      "text/plain": [
       "array([[0, 0, 0, ..., 0, 1, 1],\n",
       "       [1, 0, 1, ..., 0, 0, 0],\n",
       "       [0, 1, 0, ..., 0, 1, 0],\n",
       "       ...,\n",
       "       [1, 0, 0, ..., 0, 0, 0],\n",
       "       [1, 0, 1, ..., 0, 0, 0],\n",
       "       [1, 0, 0, ..., 0, 0, 0]], dtype=int64)"
      ]
     },
     "execution_count": 8,
     "metadata": {},
     "output_type": "execute_result"
    }
   ],
   "source": [
    "testing_x"
   ]
  },
  {
   "cell_type": "markdown",
   "metadata": {},
   "source": [
    "# ---> এখন korbo Features Secale\n",
    "er kaj holo Data ke ekta Range e ana... -2 theke +2 er vitor e ana(Range). Bcoz, Age er Basically 10-100 er bitor But Salary holo 10K-100k... ..Huge difference tai Scalling kore hoy...Then Data Ploat korbar Jonno Valid paramrter pabo"
   ]
  },
  {
   "cell_type": "code",
   "execution_count": 9,
   "metadata": {},
   "outputs": [],
   "source": [
    "from sklearn.preprocessing import StandardScaler "
   ]
  },
  {
   "cell_type": "code",
   "execution_count": 10,
   "metadata": {},
   "outputs": [],
   "source": [
    "s_c = StandardScaler()\n",
    "training_x = s_c.fit_transform(training_x) # Scalling\n",
    "test_x = s_c.fit_transform(testing_x)         # Scalling"
   ]
  },
  {
   "cell_type": "code",
   "execution_count": 11,
   "metadata": {},
   "outputs": [
    {
     "data": {
      "text/plain": [
       "array([[ 1.29919132, -0.65982888, -1.18803559, ..., -0.28157395,\n",
       "        -0.70459485, -0.25094281],\n",
       "       [ 1.29919132, -0.65982888,  0.84172562, ..., -0.28157395,\n",
       "        -0.70459485, -0.25094281],\n",
       "       [-0.76970958,  1.51554446,  0.84172562, ..., -0.28157395,\n",
       "         1.41925534, -0.25094281],\n",
       "       ...,\n",
       "       [ 1.29919132, -0.65982888, -1.18803559, ..., -0.28157395,\n",
       "        -0.70459485, -0.25094281],\n",
       "       [-0.76970958,  1.51554446, -1.18803559, ..., -0.28157395,\n",
       "         1.41925534, -0.25094281],\n",
       "       [-0.76970958, -0.65982888, -1.18803559, ...,  3.55146494,\n",
       "        -0.70459485, -0.25094281]])"
      ]
     },
     "execution_count": 11,
     "metadata": {},
     "output_type": "execute_result"
    }
   ],
   "source": [
    "training_x  # ei kane dektesi Data -2 theke +2 er bitore "
   ]
  },
  {
   "cell_type": "code",
   "execution_count": 12,
   "metadata": {},
   "outputs": [
    {
     "data": {
      "text/plain": [
       "array([[-0.87321246, -0.5527708 , -1.08130975, ..., -0.26111648,\n",
       "         1.48477118,  3.82970843],\n",
       "       [ 1.14519667, -0.5527708 ,  0.92480439, ..., -0.26111648,\n",
       "        -0.67350445, -0.26111648],\n",
       "       [-0.87321246,  1.80906807, -1.08130975, ..., -0.26111648,\n",
       "         1.48477118, -0.26111648],\n",
       "       ...,\n",
       "       [ 1.14519667, -0.5527708 , -1.08130975, ..., -0.26111648,\n",
       "        -0.67350445, -0.26111648],\n",
       "       [ 1.14519667, -0.5527708 ,  0.92480439, ..., -0.26111648,\n",
       "        -0.67350445, -0.26111648],\n",
       "       [ 1.14519667, -0.5527708 , -1.08130975, ..., -0.26111648,\n",
       "        -0.67350445, -0.26111648]])"
      ]
     },
     "execution_count": 12,
     "metadata": {},
     "output_type": "execute_result"
    }
   ],
   "source": [
    "test_x      # ei kane dektesi Data -2 theke +2 er bitore "
   ]
  },
  {
   "cell_type": "code",
   "execution_count": 13,
   "metadata": {},
   "outputs": [],
   "source": [
    "from sklearn.svm import SVC"
   ]
  },
  {
   "cell_type": "code",
   "execution_count": 14,
   "metadata": {},
   "outputs": [
    {
     "data": {
      "text/plain": [
       "SVC(kernel='linear', random_state=0)"
      ]
     },
     "execution_count": 14,
     "metadata": {},
     "output_type": "execute_result"
    }
   ],
   "source": [
    "cls_svc = SVC(kernel='linear', random_state = 0)\n",
    "cls_svc.fit(training_x,training_y)"
   ]
  },
  {
   "cell_type": "code",
   "execution_count": 15,
   "metadata": {},
   "outputs": [
    {
     "data": {
      "text/plain": [
       "array(['Oculer hypertension', 'Catracts', 'Oculer hypertension',\n",
       "       'Catracts', 'Catracts', 'Catracts', 'Catracts', 'Catracts',\n",
       "       'Catracts', 'Catracts', 'Catracts', 'Catracts',\n",
       "       'Oculer hypertension', 'Oculer hypertension',\n",
       "       'Oculer hypertension', 'Catracts', 'Oculer hypertension',\n",
       "       'Catracts', 'Catracts', 'Catracts', 'Catracts', 'Catracts',\n",
       "       'Oculer hypertension', 'Oculer hypertension',\n",
       "       'Oculer hypertension', 'Catracts', 'Oculer hypertension',\n",
       "       'Catracts', 'Oculer hypertension', 'Oculer hypertension',\n",
       "       'Catracts', 'Catracts', 'Oculer hypertension', 'Catracts',\n",
       "       'Catracts', 'Catracts', 'Catracts', 'Catracts', 'Catracts',\n",
       "       'Oculer hypertension', 'Catracts', 'Catracts', 'Catracts',\n",
       "       'Catracts', 'Glaucoma ACG', 'Catracts', 'Catracts', 'Catracts',\n",
       "       'Catracts', 'Catracts', 'Catracts', 'Catracts', 'Catracts',\n",
       "       'Catracts', 'Catracts', 'Oculer hypertension', 'Catracts',\n",
       "       'Oculer hypertension', 'Catracts', 'Catracts', 'Catracts',\n",
       "       'Oculer hypertension', 'Catracts', 'Oculer hypertension',\n",
       "       'Oculer hypertension', 'Oculer hypertension', 'Catracts',\n",
       "       'Oculer hypertension', 'Catracts', 'Oculer hypertension',\n",
       "       'Catracts', 'Oculer hypertension', 'Oculer hypertension',\n",
       "       'Oculer hypertension', 'Oculer hypertension',\n",
       "       'Oculer hypertension', 'Oculer hypertension',\n",
       "       'Oculer hypertension', 'Catracts', 'Catracts',\n",
       "       'Oculer hypertension', 'Glaucoma ACG', 'Catracts',\n",
       "       'Oculer hypertension', 'Catracts', 'Catracts', 'Catracts',\n",
       "       'Oculer hypertension', 'Catracts', 'Catracts', 'Catracts',\n",
       "       'Catracts', 'Oculer hypertension', 'Oculer hypertension',\n",
       "       'Oculer hypertension', 'Catracts', 'Oculer hypertension',\n",
       "       'Catracts', 'Catracts', 'Catracts', 'Oculer hypertension',\n",
       "       'Catracts', 'Oculer hypertension', 'Oculer hypertension',\n",
       "       'Catracts', 'Catracts', 'Catracts', 'Glaucoma ACG', 'Catracts',\n",
       "       'Catracts', 'Catracts', 'Oculer hypertension',\n",
       "       'Oculer hypertension', 'Catracts', 'Catracts',\n",
       "       'Oculer hypertension', 'Catracts', 'Oculer hypertension',\n",
       "       'Catracts', 'Catracts', 'Catracts', 'Catracts',\n",
       "       'Oculer hypertension', 'Oculer hypertension', 'Catracts',\n",
       "       'Oculer hypertension', 'Oculer hypertension', 'Catracts',\n",
       "       'Catracts', 'Catracts', 'Catracts', 'Oculer hypertension',\n",
       "       'Catracts', 'Catracts', 'Oculer hypertension',\n",
       "       'Oculer hypertension', 'Catracts', 'Oculer hypertension',\n",
       "       'Catracts', 'Catracts', 'Catracts'], dtype=object)"
      ]
     },
     "execution_count": 15,
     "metadata": {},
     "output_type": "execute_result"
    }
   ],
   "source": [
    "y_pred = cls_svc.predict(testing_x)\n",
    "y_pred # Prediction er value"
   ]
  },
  {
   "cell_type": "code",
   "execution_count": 16,
   "metadata": {},
   "outputs": [
    {
     "data": {
      "text/plain": [
       "array(['Congenital Glaucoma', 'Catracts', 'Oculer hypertension',\n",
       "       'Congenital Glaucoma', 'Catracts', 'Catracts', 'Glaucoma ACG',\n",
       "       'Catracts', 'Catracts', 'Glaucoma ACG', ' Bulgy Vision',\n",
       "       'Catracts', 'Oculer hypertension', 'Oculer hypertension',\n",
       "       'Oculer hypertension', 'Catracts', 'Oculer hypertension',\n",
       "       'Catracts', 'Glaucoma ACG', 'Catracts', 'Catracts', 'Catracts',\n",
       "       'Oculer hypertension', 'Oculer hypertension',\n",
       "       'Oculer hypertension', 'Catracts', 'Oculer hypertension',\n",
       "       'Catracts', 'Oculer hypertension', 'Congenital Glaucoma',\n",
       "       'Catracts', 'Bulgy Vision', 'Oculer hypertension', 'Catracts',\n",
       "       'Glaucoma ACG', 'Glaucoma ACG', 'Congenital Glaucoma', 'Catracts',\n",
       "       'Glaucoma ACG', 'Oculer hypertension', 'Catracts',\n",
       "       'Congenital Glaucoma', 'Congenital Glaucoma', 'Catracts',\n",
       "       'Glaucoma ACG', 'Catracts', 'Catracts', 'Catracts', 'Catracts',\n",
       "       'Congenital Glaucoma', 'Bulgy Vision', 'Catracts', 'Catracts',\n",
       "       'Catracts', 'Catracts', 'Bulgy Vision', 'Catracts',\n",
       "       'Congenital Glaucoma', 'Glaucoma ACG', 'Congenital Glaucoma',\n",
       "       'Catracts', 'Oculer hypertension', 'Catracts', 'Glaucoma ACG',\n",
       "       'Oculer hypertension', 'Congenital Glaucoma', 'Glaucoma ACG',\n",
       "       'Congenital Glaucoma', 'Catracts', 'Oculer hypertension',\n",
       "       'Catracts', 'Oculer hypertension', 'Oculer hypertension',\n",
       "       'Congenital Glaucoma', 'Bulgy Vision', 'Oculer hypertension',\n",
       "       'Oculer hypertension', 'Oculer hypertension',\n",
       "       'Congenital Glaucoma', 'Catracts', 'Oculer hypertension',\n",
       "       'Glaucoma ACG', 'Catracts', 'Oculer hypertension', 'Catracts',\n",
       "       'Catracts', 'Catracts', 'Oculer hypertension', 'Catracts',\n",
       "       'Catracts', ' Bulgy Vision', ' Bulgy Vision',\n",
       "       'Oculer hypertension', 'Congenital Glaucoma', 'Glaucoma ACG',\n",
       "       'Catracts', 'Congenital Glaucoma', 'Catracts', 'Catracts',\n",
       "       'Catracts', 'Glaucoma ACG', 'Catracts', 'Oculer hypertension',\n",
       "       'Oculer hypertension', 'Catracts', 'Catracts', 'Catracts',\n",
       "       'Glaucoma ACG', 'Catracts', 'Bulgy Vision', 'Catracts',\n",
       "       'Oculer hypertension', 'Oculer hypertension',\n",
       "       'Congenital Glaucoma', 'Catracts', 'Oculer hypertension',\n",
       "       ' Bulgy Vision', 'Oculer hypertension', 'Catracts', 'Catracts',\n",
       "       'Catracts', 'Catracts', 'Oculer hypertension', 'Glaucoma ACG',\n",
       "       'Catracts', 'Oculer hypertension', 'Oculer hypertension',\n",
       "       'Catracts', 'Catracts', 'Catracts', 'Catracts',\n",
       "       'Oculer hypertension', 'Catracts', 'Catracts',\n",
       "       'Oculer hypertension', 'Oculer hypertension', 'Catracts',\n",
       "       'Oculer hypertension', 'Catracts', 'Catracts', 'Catracts'],\n",
       "      dtype=object)"
      ]
     },
     "execution_count": 16,
     "metadata": {},
     "output_type": "execute_result"
    }
   ],
   "source": [
    "testing_y # real"
   ]
  },
  {
   "cell_type": "markdown",
   "metadata": {},
   "source": [
    "# Confusion Matrix"
   ]
  },
  {
   "cell_type": "code",
   "execution_count": 17,
   "metadata": {},
   "outputs": [],
   "source": [
    "from sklearn.metrics import confusion_matrix"
   ]
  },
  {
   "cell_type": "code",
   "execution_count": 18,
   "metadata": {},
   "outputs": [
    {
     "data": {
      "text/plain": [
       "array([[ 0,  0,  4,  0,  0,  0],\n",
       "       [ 0,  0,  3,  0,  0,  2],\n",
       "       [ 0,  0, 64,  0,  0,  0],\n",
       "       [ 0,  0,  8,  0,  0,  8],\n",
       "       [ 0,  0,  8,  0,  3,  4],\n",
       "       [ 0,  0,  0,  0,  0, 37]], dtype=int64)"
      ]
     },
     "execution_count": 18,
     "metadata": {},
     "output_type": "execute_result"
    }
   ],
   "source": [
    "confus_matrix = confusion_matrix(testing_y,y_pred)  # y_true = Real Value, y_pred = Prediction er value\n",
    "confus_matrix"
   ]
  },
  {
   "cell_type": "markdown",
   "metadata": {},
   "source": [
    "# Accuracy"
   ]
  },
  {
   "cell_type": "code",
   "execution_count": 19,
   "metadata": {},
   "outputs": [
    {
     "name": "stdout",
     "output_type": "stream",
     "text": [
      "Accuracy :  0.7375886524822695\n"
     ]
    }
   ],
   "source": [
    "from sklearn.metrics import accuracy_score \n",
    "print (\"Accuracy : \", accuracy_score(testing_y, y_pred))"
   ]
  },
  {
   "cell_type": "code",
   "execution_count": 21,
   "metadata": {},
   "outputs": [
    {
     "name": "stdout",
     "output_type": "stream",
     "text": [
      "73.75886524822694\n"
     ]
    }
   ],
   "source": [
    "print (accuracy_score(testing_y, y_pred)*100) # Accuracy"
   ]
  },
  {
   "cell_type": "markdown",
   "metadata": {},
   "source": [
    "# precision, recall, f1-score, support\n"
   ]
  },
  {
   "cell_type": "code",
   "execution_count": 22,
   "metadata": {},
   "outputs": [
    {
     "name": "stdout",
     "output_type": "stream",
     "text": [
      "                     precision    recall  f1-score   support\n",
      "\n",
      "       Bulgy Vision       0.00      0.00      0.00         4\n",
      "       Bulgy Vision       0.00      0.00      0.00         5\n",
      "           Catracts       0.74      1.00      0.85        64\n",
      "Congenital Glaucoma       0.00      0.00      0.00        16\n",
      "       Glaucoma ACG       1.00      0.20      0.33        15\n",
      "Oculer hypertension       0.73      1.00      0.84        37\n",
      "\n",
      "           accuracy                           0.74       141\n",
      "          macro avg       0.41      0.37      0.34       141\n",
      "       weighted avg       0.63      0.74      0.64       141\n",
      "\n"
     ]
    },
    {
     "name": "stderr",
     "output_type": "stream",
     "text": [
      "C:\\Users\\Nayeem\\.conda\\envs\\tensorflow 3_7\\lib\\site-packages\\sklearn\\metrics\\_classification.py:1221: UndefinedMetricWarning: Precision and F-score are ill-defined and being set to 0.0 in labels with no predicted samples. Use `zero_division` parameter to control this behavior.\n",
      "  _warn_prf(average, modifier, msg_start, len(result))\n"
     ]
    }
   ],
   "source": [
    "from sklearn.metrics import classification_report\n",
    "print(classification_report(testing_y, y_pred))"
   ]
  },
  {
   "cell_type": "code",
   "execution_count": null,
   "metadata": {},
   "outputs": [],
   "source": []
  }
 ],
 "metadata": {
  "kernelspec": {
   "display_name": "Python 3",
   "language": "python",
   "name": "python3"
  },
  "language_info": {
   "codemirror_mode": {
    "name": "ipython",
    "version": 3
   },
   "file_extension": ".py",
   "mimetype": "text/x-python",
   "name": "python",
   "nbconvert_exporter": "python",
   "pygments_lexer": "ipython3",
   "version": "3.7.9"
  }
 },
 "nbformat": 4,
 "nbformat_minor": 4
}
