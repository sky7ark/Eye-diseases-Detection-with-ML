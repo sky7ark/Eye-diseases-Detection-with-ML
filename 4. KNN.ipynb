{
 "cells": [
  {
   "cell_type": "code",
   "execution_count": 1,
   "metadata": {},
   "outputs": [],
   "source": [
    "import numpy as np\n",
    "import pandas as pd"
   ]
  },
  {
   "cell_type": "code",
   "execution_count": 2,
   "metadata": {},
   "outputs": [
    {
     "data": {
      "text/html": [
       "<div>\n",
       "<style scoped>\n",
       "    .dataframe tbody tr th:only-of-type {\n",
       "        vertical-align: middle;\n",
       "    }\n",
       "\n",
       "    .dataframe tbody tr th {\n",
       "        vertical-align: top;\n",
       "    }\n",
       "\n",
       "    .dataframe thead th {\n",
       "        text-align: right;\n",
       "    }\n",
       "</style>\n",
       "<table border=\"1\" class=\"dataframe\">\n",
       "  <thead>\n",
       "    <tr style=\"text-align: right;\">\n",
       "      <th></th>\n",
       "      <th>Patients</th>\n",
       "      <th>Clouldy, blurry or foggy vision</th>\n",
       "      <th>Pressure in Eye?</th>\n",
       "      <th>Injury to the Eye</th>\n",
       "      <th>Excessive dryness</th>\n",
       "      <th>Red eye</th>\n",
       "      <th>Cornea increase in size</th>\n",
       "      <th>Color Identifying Problem</th>\n",
       "      <th>Double Vision</th>\n",
       "      <th>Have eye problem in family</th>\n",
       "      <th>...</th>\n",
       "      <th>Diabetics</th>\n",
       "      <th>Myopia</th>\n",
       "      <th>Trouble with glasses</th>\n",
       "      <th>Hard to see at night</th>\n",
       "      <th>Visible Whiteness</th>\n",
       "      <th>Mass pain</th>\n",
       "      <th>Vomiting</th>\n",
       "      <th>Water drops from eyes continuously</th>\n",
       "      <th>Presents of light when eye lid close</th>\n",
       "      <th>Result/Outcome</th>\n",
       "    </tr>\n",
       "  </thead>\n",
       "  <tbody>\n",
       "    <tr>\n",
       "      <th>0</th>\n",
       "      <td>Alam</td>\n",
       "      <td>0</td>\n",
       "      <td>1</td>\n",
       "      <td>0</td>\n",
       "      <td>0</td>\n",
       "      <td>0</td>\n",
       "      <td>0</td>\n",
       "      <td>0</td>\n",
       "      <td>0</td>\n",
       "      <td>1</td>\n",
       "      <td>...</td>\n",
       "      <td>1</td>\n",
       "      <td>0</td>\n",
       "      <td>0</td>\n",
       "      <td>0</td>\n",
       "      <td>0</td>\n",
       "      <td>0</td>\n",
       "      <td>0</td>\n",
       "      <td>0</td>\n",
       "      <td>0</td>\n",
       "      <td>Oculer hypertension</td>\n",
       "    </tr>\n",
       "    <tr>\n",
       "      <th>1</th>\n",
       "      <td>Kadir</td>\n",
       "      <td>1</td>\n",
       "      <td>0</td>\n",
       "      <td>0</td>\n",
       "      <td>0</td>\n",
       "      <td>0</td>\n",
       "      <td>0</td>\n",
       "      <td>1</td>\n",
       "      <td>1</td>\n",
       "      <td>0</td>\n",
       "      <td>...</td>\n",
       "      <td>1</td>\n",
       "      <td>1</td>\n",
       "      <td>1</td>\n",
       "      <td>0</td>\n",
       "      <td>0</td>\n",
       "      <td>0</td>\n",
       "      <td>0</td>\n",
       "      <td>0</td>\n",
       "      <td>0</td>\n",
       "      <td>Catracts</td>\n",
       "    </tr>\n",
       "    <tr>\n",
       "      <th>2</th>\n",
       "      <td>Farid</td>\n",
       "      <td>1</td>\n",
       "      <td>0</td>\n",
       "      <td>0</td>\n",
       "      <td>0</td>\n",
       "      <td>0</td>\n",
       "      <td>0</td>\n",
       "      <td>1</td>\n",
       "      <td>0</td>\n",
       "      <td>1</td>\n",
       "      <td>...</td>\n",
       "      <td>0</td>\n",
       "      <td>1</td>\n",
       "      <td>0</td>\n",
       "      <td>1</td>\n",
       "      <td>0</td>\n",
       "      <td>0</td>\n",
       "      <td>0</td>\n",
       "      <td>0</td>\n",
       "      <td>0</td>\n",
       "      <td>Catracts</td>\n",
       "    </tr>\n",
       "    <tr>\n",
       "      <th>3</th>\n",
       "      <td>Rahim</td>\n",
       "      <td>0</td>\n",
       "      <td>0</td>\n",
       "      <td>0</td>\n",
       "      <td>1</td>\n",
       "      <td>0</td>\n",
       "      <td>0</td>\n",
       "      <td>0</td>\n",
       "      <td>0</td>\n",
       "      <td>1</td>\n",
       "      <td>...</td>\n",
       "      <td>1</td>\n",
       "      <td>0</td>\n",
       "      <td>0</td>\n",
       "      <td>0</td>\n",
       "      <td>1</td>\n",
       "      <td>0</td>\n",
       "      <td>0</td>\n",
       "      <td>0</td>\n",
       "      <td>0</td>\n",
       "      <td>Bulgy Vision</td>\n",
       "    </tr>\n",
       "    <tr>\n",
       "      <th>4</th>\n",
       "      <td>Barsha</td>\n",
       "      <td>0</td>\n",
       "      <td>0</td>\n",
       "      <td>0</td>\n",
       "      <td>0</td>\n",
       "      <td>1</td>\n",
       "      <td>0</td>\n",
       "      <td>0</td>\n",
       "      <td>0</td>\n",
       "      <td>1</td>\n",
       "      <td>...</td>\n",
       "      <td>0</td>\n",
       "      <td>0</td>\n",
       "      <td>0</td>\n",
       "      <td>0</td>\n",
       "      <td>0</td>\n",
       "      <td>1</td>\n",
       "      <td>1</td>\n",
       "      <td>0</td>\n",
       "      <td>0</td>\n",
       "      <td>Glaucoma ACG</td>\n",
       "    </tr>\n",
       "    <tr>\n",
       "      <th>5</th>\n",
       "      <td>Rifah</td>\n",
       "      <td>0</td>\n",
       "      <td>0</td>\n",
       "      <td>0</td>\n",
       "      <td>0</td>\n",
       "      <td>1</td>\n",
       "      <td>0</td>\n",
       "      <td>0</td>\n",
       "      <td>0</td>\n",
       "      <td>0</td>\n",
       "      <td>...</td>\n",
       "      <td>1</td>\n",
       "      <td>0</td>\n",
       "      <td>0</td>\n",
       "      <td>0</td>\n",
       "      <td>0</td>\n",
       "      <td>1</td>\n",
       "      <td>0</td>\n",
       "      <td>0</td>\n",
       "      <td>0</td>\n",
       "      <td>Glaucoma ACG</td>\n",
       "    </tr>\n",
       "    <tr>\n",
       "      <th>6</th>\n",
       "      <td>Mashrar</td>\n",
       "      <td>1</td>\n",
       "      <td>0</td>\n",
       "      <td>0</td>\n",
       "      <td>0</td>\n",
       "      <td>0</td>\n",
       "      <td>0</td>\n",
       "      <td>0</td>\n",
       "      <td>0</td>\n",
       "      <td>1</td>\n",
       "      <td>...</td>\n",
       "      <td>1</td>\n",
       "      <td>1</td>\n",
       "      <td>0</td>\n",
       "      <td>0</td>\n",
       "      <td>0</td>\n",
       "      <td>0</td>\n",
       "      <td>0</td>\n",
       "      <td>0</td>\n",
       "      <td>0</td>\n",
       "      <td>Catracts</td>\n",
       "    </tr>\n",
       "    <tr>\n",
       "      <th>7</th>\n",
       "      <td>Oporajita</td>\n",
       "      <td>0</td>\n",
       "      <td>0</td>\n",
       "      <td>0</td>\n",
       "      <td>0</td>\n",
       "      <td>0</td>\n",
       "      <td>1</td>\n",
       "      <td>0</td>\n",
       "      <td>0</td>\n",
       "      <td>1</td>\n",
       "      <td>...</td>\n",
       "      <td>0</td>\n",
       "      <td>0</td>\n",
       "      <td>1</td>\n",
       "      <td>0</td>\n",
       "      <td>0</td>\n",
       "      <td>0</td>\n",
       "      <td>0</td>\n",
       "      <td>1</td>\n",
       "      <td>1</td>\n",
       "      <td>Congenital Glaucoma</td>\n",
       "    </tr>\n",
       "    <tr>\n",
       "      <th>8</th>\n",
       "      <td>Saliha</td>\n",
       "      <td>0</td>\n",
       "      <td>0</td>\n",
       "      <td>0</td>\n",
       "      <td>1</td>\n",
       "      <td>0</td>\n",
       "      <td>0</td>\n",
       "      <td>0</td>\n",
       "      <td>0</td>\n",
       "      <td>0</td>\n",
       "      <td>...</td>\n",
       "      <td>1</td>\n",
       "      <td>0</td>\n",
       "      <td>0</td>\n",
       "      <td>0</td>\n",
       "      <td>1</td>\n",
       "      <td>0</td>\n",
       "      <td>0</td>\n",
       "      <td>0</td>\n",
       "      <td>0</td>\n",
       "      <td>Bulgy Vision</td>\n",
       "    </tr>\n",
       "    <tr>\n",
       "      <th>9</th>\n",
       "      <td>eva</td>\n",
       "      <td>0</td>\n",
       "      <td>0</td>\n",
       "      <td>0</td>\n",
       "      <td>0</td>\n",
       "      <td>0</td>\n",
       "      <td>0</td>\n",
       "      <td>1</td>\n",
       "      <td>0</td>\n",
       "      <td>1</td>\n",
       "      <td>...</td>\n",
       "      <td>0</td>\n",
       "      <td>0</td>\n",
       "      <td>0</td>\n",
       "      <td>0</td>\n",
       "      <td>0</td>\n",
       "      <td>1</td>\n",
       "      <td>1</td>\n",
       "      <td>0</td>\n",
       "      <td>0</td>\n",
       "      <td>Glaucoma ACG</td>\n",
       "    </tr>\n",
       "  </tbody>\n",
       "</table>\n",
       "<p>10 rows × 21 columns</p>\n",
       "</div>"
      ],
      "text/plain": [
       "    Patients  Clouldy, blurry or foggy vision  Pressure in Eye?  \\\n",
       "0       Alam                                0                 1   \n",
       "1      Kadir                                1                 0   \n",
       "2      Farid                                1                 0   \n",
       "3      Rahim                                0                 0   \n",
       "4     Barsha                                0                 0   \n",
       "5      Rifah                                0                 0   \n",
       "6    Mashrar                                1                 0   \n",
       "7  Oporajita                                0                 0   \n",
       "8     Saliha                                0                 0   \n",
       "9        eva                                0                 0   \n",
       "\n",
       "   Injury to the Eye  Excessive dryness  Red eye  Cornea increase in size  \\\n",
       "0                  0                  0        0                        0   \n",
       "1                  0                  0        0                        0   \n",
       "2                  0                  0        0                        0   \n",
       "3                  0                  1        0                        0   \n",
       "4                  0                  0        1                        0   \n",
       "5                  0                  0        1                        0   \n",
       "6                  0                  0        0                        0   \n",
       "7                  0                  0        0                        1   \n",
       "8                  0                  1        0                        0   \n",
       "9                  0                  0        0                        0   \n",
       "\n",
       "   Color Identifying Problem  Double Vision  Have eye problem in family  ...  \\\n",
       "0                          0              0                           1  ...   \n",
       "1                          1              1                           0  ...   \n",
       "2                          1              0                           1  ...   \n",
       "3                          0              0                           1  ...   \n",
       "4                          0              0                           1  ...   \n",
       "5                          0              0                           0  ...   \n",
       "6                          0              0                           1  ...   \n",
       "7                          0              0                           1  ...   \n",
       "8                          0              0                           0  ...   \n",
       "9                          1              0                           1  ...   \n",
       "\n",
       "   Diabetics  Myopia  Trouble with glasses  Hard to see at night  \\\n",
       "0          1       0                     0                     0   \n",
       "1          1       1                     1                     0   \n",
       "2          0       1                     0                     1   \n",
       "3          1       0                     0                     0   \n",
       "4          0       0                     0                     0   \n",
       "5          1       0                     0                     0   \n",
       "6          1       1                     0                     0   \n",
       "7          0       0                     1                     0   \n",
       "8          1       0                     0                     0   \n",
       "9          0       0                     0                     0   \n",
       "\n",
       "   Visible Whiteness  Mass pain  Vomiting  Water drops from eyes continuously  \\\n",
       "0                  0          0         0                                   0   \n",
       "1                  0          0         0                                   0   \n",
       "2                  0          0         0                                   0   \n",
       "3                  1          0         0                                   0   \n",
       "4                  0          1         1                                   0   \n",
       "5                  0          1         0                                   0   \n",
       "6                  0          0         0                                   0   \n",
       "7                  0          0         0                                   1   \n",
       "8                  1          0         0                                   0   \n",
       "9                  0          1         1                                   0   \n",
       "\n",
       "   Presents of light when eye lid close       Result/Outcome  \n",
       "0                                     0  Oculer hypertension  \n",
       "1                                     0             Catracts  \n",
       "2                                     0             Catracts  \n",
       "3                                     0         Bulgy Vision  \n",
       "4                                     0         Glaucoma ACG  \n",
       "5                                     0         Glaucoma ACG  \n",
       "6                                     0             Catracts  \n",
       "7                                     1  Congenital Glaucoma  \n",
       "8                                     0         Bulgy Vision  \n",
       "9                                     0         Glaucoma ACG  \n",
       "\n",
       "[10 rows x 21 columns]"
      ]
     },
     "execution_count": 2,
     "metadata": {},
     "output_type": "execute_result"
    }
   ],
   "source": [
    "data = pd.read_csv('DatasetDocBot_final.csv')\n",
    "data.head(10)"
   ]
  },
  {
   "cell_type": "code",
   "execution_count": 3,
   "metadata": {},
   "outputs": [],
   "source": [
    "# ei khane data ke 2 way te devide korbo\n",
    "# input multiple hbe but output sudu ekta tai hbe\n",
    "\n",
    "real_x = data.iloc[:,1:20].values\n",
    "real_y = data.iloc[:,20].values"
   ]
  },
  {
   "cell_type": "code",
   "execution_count": 4,
   "metadata": {},
   "outputs": [
    {
     "data": {
      "text/plain": [
       "array([[0, 1, 0, ..., 0, 0, 0],\n",
       "       [1, 0, 0, ..., 0, 0, 0],\n",
       "       [1, 0, 0, ..., 0, 0, 0],\n",
       "       ...,\n",
       "       [0, 1, 0, ..., 1, 1, 0],\n",
       "       [0, 0, 0, ..., 1, 0, 0],\n",
       "       [0, 0, 0, ..., 1, 0, 0]], dtype=int64)"
      ]
     },
     "execution_count": 4,
     "metadata": {},
     "output_type": "execute_result"
    }
   ],
   "source": [
    "real_x"
   ]
  },
  {
   "cell_type": "code",
   "execution_count": 5,
   "metadata": {},
   "outputs": [
    {
     "data": {
      "text/plain": [
       "array(['Oculer hypertension', 'Catracts', 'Catracts', 'Bulgy Vision',\n",
       "       'Glaucoma ACG', 'Glaucoma ACG', 'Catracts', 'Congenital Glaucoma',\n",
       "       'Bulgy Vision', 'Glaucoma ACG', 'Bulgy Vision', 'Bulgy Vision',\n",
       "       'Bulgy Vision', 'Bulgy Vision', 'Bulgy Vision', 'Bulgy Vision',\n",
       "       'Bulgy Vision', 'Bulgy Vision', 'Bulgy Vision', 'Bulgy Vision',\n",
       "       'Bulgy Vision', 'Bulgy Vision', 'Bulgy Vision', 'Bulgy Vision',\n",
       "       'Bulgy Vision', 'Oculer hypertension', 'Oculer hypertension',\n",
       "       'Oculer hypertension', 'Oculer hypertension',\n",
       "       'Oculer hypertension', 'Oculer hypertension',\n",
       "       'Oculer hypertension', 'Oculer hypertension',\n",
       "       'Oculer hypertension', 'Oculer hypertension',\n",
       "       'Oculer hypertension', 'Oculer hypertension',\n",
       "       'Oculer hypertension', 'Oculer hypertension',\n",
       "       'Oculer hypertension', 'Oculer hypertension',\n",
       "       'Oculer hypertension', 'Oculer hypertension',\n",
       "       'Oculer hypertension', 'Oculer hypertension',\n",
       "       'Oculer hypertension', 'Oculer hypertension',\n",
       "       'Oculer hypertension', 'Oculer hypertension',\n",
       "       'Oculer hypertension', 'Oculer hypertension',\n",
       "       'Oculer hypertension', 'Oculer hypertension',\n",
       "       'Oculer hypertension', 'Oculer hypertension',\n",
       "       'Oculer hypertension', 'Oculer hypertension',\n",
       "       'Oculer hypertension', 'Oculer hypertension',\n",
       "       'Oculer hypertension', 'Oculer hypertension',\n",
       "       'Oculer hypertension', 'Oculer hypertension',\n",
       "       'Oculer hypertension', 'Oculer hypertension',\n",
       "       'Oculer hypertension', 'Oculer hypertension',\n",
       "       'Oculer hypertension', 'Oculer hypertension',\n",
       "       'Oculer hypertension', 'Oculer hypertension',\n",
       "       'Oculer hypertension', 'Oculer hypertension',\n",
       "       'Oculer hypertension', 'Oculer hypertension',\n",
       "       'Oculer hypertension', 'Oculer hypertension',\n",
       "       'Oculer hypertension', 'Oculer hypertension',\n",
       "       'Oculer hypertension', 'Oculer hypertension',\n",
       "       'Oculer hypertension', 'Oculer hypertension',\n",
       "       'Oculer hypertension', 'Oculer hypertension',\n",
       "       'Oculer hypertension', 'Oculer hypertension',\n",
       "       'Oculer hypertension', 'Oculer hypertension',\n",
       "       'Oculer hypertension', 'Oculer hypertension',\n",
       "       'Oculer hypertension', 'Oculer hypertension',\n",
       "       'Oculer hypertension', 'Oculer hypertension',\n",
       "       'Oculer hypertension', 'Oculer hypertension',\n",
       "       'Oculer hypertension', 'Oculer hypertension',\n",
       "       'Oculer hypertension', 'Oculer hypertension',\n",
       "       'Oculer hypertension', 'Oculer hypertension',\n",
       "       'Oculer hypertension', 'Oculer hypertension',\n",
       "       'Oculer hypertension', 'Oculer hypertension',\n",
       "       'Oculer hypertension', 'Oculer hypertension',\n",
       "       'Oculer hypertension', 'Oculer hypertension',\n",
       "       'Oculer hypertension', 'Oculer hypertension',\n",
       "       'Oculer hypertension', 'Oculer hypertension',\n",
       "       'Oculer hypertension', 'Oculer hypertension',\n",
       "       'Oculer hypertension', 'Oculer hypertension',\n",
       "       'Oculer hypertension', 'Oculer hypertension',\n",
       "       'Oculer hypertension', 'Oculer hypertension',\n",
       "       'Oculer hypertension', 'Oculer hypertension',\n",
       "       'Oculer hypertension', 'Oculer hypertension',\n",
       "       'Oculer hypertension', 'Oculer hypertension',\n",
       "       'Oculer hypertension', 'Oculer hypertension',\n",
       "       'Oculer hypertension', 'Oculer hypertension',\n",
       "       'Oculer hypertension', 'Oculer hypertension',\n",
       "       'Oculer hypertension', 'Oculer hypertension',\n",
       "       'Oculer hypertension', 'Oculer hypertension',\n",
       "       'Oculer hypertension', 'Oculer hypertension',\n",
       "       'Oculer hypertension', 'Oculer hypertension',\n",
       "       'Oculer hypertension', 'Oculer hypertension',\n",
       "       'Oculer hypertension', 'Oculer hypertension',\n",
       "       'Oculer hypertension', 'Oculer hypertension',\n",
       "       'Oculer hypertension', 'Oculer hypertension',\n",
       "       'Oculer hypertension', 'Oculer hypertension',\n",
       "       'Oculer hypertension', 'Oculer hypertension',\n",
       "       'Oculer hypertension', 'Oculer hypertension',\n",
       "       'Oculer hypertension', 'Oculer hypertension',\n",
       "       'Oculer hypertension', 'Oculer hypertension',\n",
       "       'Oculer hypertension', 'Oculer hypertension',\n",
       "       'Oculer hypertension', 'Oculer hypertension',\n",
       "       'Oculer hypertension', 'Oculer hypertension',\n",
       "       'Oculer hypertension', 'Oculer hypertension',\n",
       "       'Oculer hypertension', 'Oculer hypertension',\n",
       "       'Oculer hypertension', 'Oculer hypertension',\n",
       "       'Oculer hypertension', 'Oculer hypertension',\n",
       "       'Oculer hypertension', 'Oculer hypertension',\n",
       "       'Oculer hypertension', 'Oculer hypertension',\n",
       "       'Oculer hypertension', 'Oculer hypertension',\n",
       "       'Oculer hypertension', 'Oculer hypertension',\n",
       "       'Oculer hypertension', 'Oculer hypertension',\n",
       "       'Oculer hypertension', 'Oculer hypertension',\n",
       "       'Oculer hypertension', 'Oculer hypertension',\n",
       "       'Oculer hypertension', 'Oculer hypertension',\n",
       "       'Oculer hypertension', 'Oculer hypertension',\n",
       "       'Oculer hypertension', ' Bulgy Vision', ' Bulgy Vision',\n",
       "       ' Bulgy Vision', ' Bulgy Vision', ' Bulgy Vision', ' Bulgy Vision',\n",
       "       ' Bulgy Vision', ' Bulgy Vision', ' Bulgy Vision', ' Bulgy Vision',\n",
       "       ' Bulgy Vision', ' Bulgy Vision', ' Bulgy Vision', ' Bulgy Vision',\n",
       "       ' Bulgy Vision', ' Bulgy Vision', ' Bulgy Vision', ' Bulgy Vision',\n",
       "       ' Bulgy Vision', ' Bulgy Vision', ' Bulgy Vision', ' Bulgy Vision',\n",
       "       ' Bulgy Vision', ' Bulgy Vision', 'Catracts', 'Catracts',\n",
       "       'Catracts', 'Catracts', 'Catracts', 'Catracts', 'Catracts',\n",
       "       'Catracts', 'Catracts', 'Catracts', 'Catracts', 'Catracts',\n",
       "       'Catracts', 'Catracts', 'Catracts', 'Catracts', 'Catracts',\n",
       "       'Catracts', 'Catracts', 'Catracts', 'Catracts', 'Catracts',\n",
       "       'Catracts', 'Catracts', 'Catracts', 'Catracts', 'Catracts',\n",
       "       'Catracts', 'Catracts', 'Catracts', 'Catracts', 'Catracts',\n",
       "       'Catracts', 'Catracts', 'Catracts', 'Catracts', 'Catracts',\n",
       "       'Catracts', 'Catracts', 'Catracts', 'Catracts', 'Catracts',\n",
       "       'Catracts', 'Catracts', 'Catracts', 'Catracts', 'Catracts',\n",
       "       'Catracts', 'Catracts', 'Catracts', 'Catracts', 'Catracts',\n",
       "       'Catracts', 'Catracts', 'Catracts', 'Catracts', 'Catracts',\n",
       "       'Catracts', 'Catracts', 'Catracts', 'Catracts', 'Catracts',\n",
       "       'Catracts', 'Catracts', 'Catracts', 'Catracts', 'Catracts',\n",
       "       'Catracts', 'Catracts', 'Catracts', 'Catracts', 'Catracts',\n",
       "       'Catracts', 'Catracts', 'Catracts', 'Catracts', 'Catracts',\n",
       "       'Catracts', 'Catracts', 'Catracts', 'Catracts', 'Catracts',\n",
       "       'Catracts', 'Catracts', 'Catracts', 'Catracts', 'Catracts',\n",
       "       'Catracts', 'Catracts', 'Catracts', 'Catracts', 'Catracts',\n",
       "       'Catracts', 'Catracts', 'Catracts', 'Catracts', 'Catracts',\n",
       "       'Catracts', 'Catracts', 'Catracts', 'Catracts', 'Catracts',\n",
       "       'Catracts', 'Catracts', 'Catracts', 'Catracts', 'Catracts',\n",
       "       'Catracts', 'Catracts', 'Catracts', 'Catracts', 'Catracts',\n",
       "       'Catracts', 'Catracts', 'Catracts', 'Catracts', 'Catracts',\n",
       "       'Catracts', 'Catracts', 'Catracts', 'Catracts', 'Catracts',\n",
       "       'Catracts', 'Catracts', 'Catracts', 'Catracts', 'Catracts',\n",
       "       'Catracts', 'Catracts', 'Catracts', 'Catracts', 'Catracts',\n",
       "       'Catracts', 'Catracts', 'Catracts', 'Catracts', 'Catracts',\n",
       "       'Catracts', 'Catracts', 'Catracts', 'Catracts', 'Catracts',\n",
       "       'Catracts', 'Catracts', 'Catracts', 'Catracts', 'Catracts',\n",
       "       'Catracts', 'Catracts', 'Catracts', 'Catracts', 'Catracts',\n",
       "       'Catracts', 'Catracts', 'Catracts', 'Catracts', 'Catracts',\n",
       "       'Catracts', 'Catracts', 'Catracts', 'Catracts', 'Catracts',\n",
       "       'Catracts', 'Catracts', 'Catracts', 'Catracts', 'Catracts',\n",
       "       'Catracts', 'Catracts', 'Catracts', 'Catracts', 'Catracts',\n",
       "       'Catracts', 'Catracts', 'Catracts', 'Catracts', 'Catracts',\n",
       "       'Catracts', 'Catracts', 'Catracts', 'Catracts', 'Catracts',\n",
       "       'Catracts', 'Catracts', 'Catracts', 'Catracts', 'Catracts',\n",
       "       'Catracts', 'Catracts', 'Catracts', 'Catracts', 'Catracts',\n",
       "       'Catracts', 'Catracts', 'Catracts', 'Catracts', 'Catracts',\n",
       "       'Catracts', 'Catracts', 'Catracts', 'Catracts', 'Catracts',\n",
       "       'Catracts', 'Catracts', 'Catracts', 'Catracts', 'Catracts',\n",
       "       'Catracts', 'Catracts', 'Catracts', 'Catracts', 'Catracts',\n",
       "       'Catracts', 'Catracts', 'Catracts', 'Catracts', 'Catracts',\n",
       "       'Catracts', 'Catracts', 'Catracts', 'Catracts', 'Catracts',\n",
       "       'Catracts', 'Catracts', 'Catracts', 'Catracts', 'Catracts',\n",
       "       'Catracts', 'Catracts', 'Catracts', 'Catracts', 'Catracts',\n",
       "       'Catracts', 'Congenital Glaucoma', 'Congenital Glaucoma',\n",
       "       'Congenital Glaucoma', 'Congenital Glaucoma',\n",
       "       'Congenital Glaucoma', 'Congenital Glaucoma',\n",
       "       'Congenital Glaucoma', 'Congenital Glaucoma',\n",
       "       'Congenital Glaucoma', 'Congenital Glaucoma',\n",
       "       'Congenital Glaucoma', 'Congenital Glaucoma',\n",
       "       'Congenital Glaucoma', 'Congenital Glaucoma',\n",
       "       'Congenital Glaucoma', 'Congenital Glaucoma',\n",
       "       'Congenital Glaucoma', 'Congenital Glaucoma',\n",
       "       'Congenital Glaucoma', 'Congenital Glaucoma',\n",
       "       'Congenital Glaucoma', 'Congenital Glaucoma',\n",
       "       'Congenital Glaucoma', 'Congenital Glaucoma',\n",
       "       'Congenital Glaucoma', 'Congenital Glaucoma',\n",
       "       'Congenital Glaucoma', 'Congenital Glaucoma',\n",
       "       'Congenital Glaucoma', 'Congenital Glaucoma',\n",
       "       'Congenital Glaucoma', 'Congenital Glaucoma',\n",
       "       'Congenital Glaucoma', 'Congenital Glaucoma',\n",
       "       'Congenital Glaucoma', 'Congenital Glaucoma',\n",
       "       'Congenital Glaucoma', 'Congenital Glaucoma',\n",
       "       'Congenital Glaucoma', 'Congenital Glaucoma',\n",
       "       'Congenital Glaucoma', 'Congenital Glaucoma',\n",
       "       'Congenital Glaucoma', 'Congenital Glaucoma',\n",
       "       'Congenital Glaucoma', 'Congenital Glaucoma',\n",
       "       'Congenital Glaucoma', 'Congenital Glaucoma',\n",
       "       'Congenital Glaucoma', 'Congenital Glaucoma',\n",
       "       'Congenital Glaucoma', 'Congenital Glaucoma',\n",
       "       'Congenital Glaucoma', 'Congenital Glaucoma',\n",
       "       'Congenital Glaucoma', 'Congenital Glaucoma', 'Glaucoma ACG',\n",
       "       'Glaucoma ACG', 'Glaucoma ACG', 'Glaucoma ACG', 'Glaucoma ACG',\n",
       "       'Glaucoma ACG', 'Glaucoma ACG', 'Glaucoma ACG', 'Glaucoma ACG',\n",
       "       'Glaucoma ACG', 'Glaucoma ACG', 'Glaucoma ACG', 'Glaucoma ACG',\n",
       "       'Glaucoma ACG', 'Glaucoma ACG', 'Glaucoma ACG', 'Glaucoma ACG',\n",
       "       'Glaucoma ACG', 'Glaucoma ACG', 'Glaucoma ACG', 'Glaucoma ACG',\n",
       "       'Glaucoma ACG', 'Glaucoma ACG', 'Glaucoma ACG', 'Glaucoma ACG',\n",
       "       'Glaucoma ACG', 'Glaucoma ACG', 'Glaucoma ACG', 'Glaucoma ACG',\n",
       "       'Glaucoma ACG', 'Glaucoma ACG', 'Glaucoma ACG', 'Glaucoma ACG',\n",
       "       'Glaucoma ACG', 'Glaucoma ACG', 'Glaucoma ACG', 'Glaucoma ACG',\n",
       "       'Glaucoma ACG', 'Glaucoma ACG', 'Glaucoma ACG', 'Glaucoma ACG',\n",
       "       'Glaucoma ACG', 'Glaucoma ACG', 'Glaucoma ACG', 'Glaucoma ACG',\n",
       "       'Glaucoma ACG', 'Glaucoma ACG', 'Glaucoma ACG', 'Glaucoma ACG',\n",
       "       'Glaucoma ACG', 'Glaucoma ACG', 'Glaucoma ACG', 'Glaucoma ACG',\n",
       "       'Glaucoma ACG', 'Glaucoma ACG', 'Glaucoma ACG'], dtype=object)"
      ]
     },
     "execution_count": 5,
     "metadata": {},
     "output_type": "execute_result"
    }
   ],
   "source": [
    "real_y"
   ]
  },
  {
   "cell_type": "code",
   "execution_count": 6,
   "metadata": {},
   "outputs": [],
   "source": [
    "from sklearn.model_selection import train_test_split # aage eta use hotw-->from sklearn.cross_validation import train_test_split\n",
    "training_x,test_x,training_y,test_y = train_test_split(real_x,real_y,test_size = 0.25, random_state=0)"
   ]
  },
  {
   "cell_type": "code",
   "execution_count": 7,
   "metadata": {},
   "outputs": [
    {
     "data": {
      "text/plain": [
       "array([[1, 0, 0, ..., 0, 0, 0],\n",
       "       [1, 0, 1, ..., 0, 0, 0],\n",
       "       [0, 1, 1, ..., 0, 1, 0],\n",
       "       ...,\n",
       "       [1, 0, 0, ..., 0, 0, 0],\n",
       "       [0, 1, 0, ..., 0, 1, 0],\n",
       "       [0, 0, 0, ..., 1, 0, 0]], dtype=int64)"
      ]
     },
     "execution_count": 7,
     "metadata": {},
     "output_type": "execute_result"
    }
   ],
   "source": [
    "training_x"
   ]
  },
  {
   "cell_type": "code",
   "execution_count": 8,
   "metadata": {},
   "outputs": [
    {
     "data": {
      "text/plain": [
       "array([[0, 0, 0, ..., 0, 1, 1],\n",
       "       [1, 0, 1, ..., 0, 0, 0],\n",
       "       [0, 1, 0, ..., 0, 1, 0],\n",
       "       ...,\n",
       "       [1, 0, 0, ..., 0, 0, 0],\n",
       "       [1, 0, 1, ..., 0, 0, 0],\n",
       "       [1, 0, 0, ..., 0, 0, 0]], dtype=int64)"
      ]
     },
     "execution_count": 8,
     "metadata": {},
     "output_type": "execute_result"
    }
   ],
   "source": [
    "test_x"
   ]
  },
  {
   "cell_type": "code",
   "execution_count": 9,
   "metadata": {},
   "outputs": [],
   "source": [
    "from sklearn.preprocessing import StandardScaler "
   ]
  },
  {
   "cell_type": "code",
   "execution_count": 10,
   "metadata": {},
   "outputs": [],
   "source": [
    "scaler = StandardScaler()\n",
    "training_x = scaler.fit_transform(training_x) # Scalling\n",
    "test_x = scaler.fit_transform(test_x)         # Scalling"
   ]
  },
  {
   "cell_type": "code",
   "execution_count": 11,
   "metadata": {},
   "outputs": [
    {
     "data": {
      "text/plain": [
       "array([[ 1.29919132, -0.65982888, -1.18803559, ..., -0.28157395,\n",
       "        -0.70459485, -0.25094281],\n",
       "       [ 1.29919132, -0.65982888,  0.84172562, ..., -0.28157395,\n",
       "        -0.70459485, -0.25094281],\n",
       "       [-0.76970958,  1.51554446,  0.84172562, ..., -0.28157395,\n",
       "         1.41925534, -0.25094281],\n",
       "       ...,\n",
       "       [ 1.29919132, -0.65982888, -1.18803559, ..., -0.28157395,\n",
       "        -0.70459485, -0.25094281],\n",
       "       [-0.76970958,  1.51554446, -1.18803559, ..., -0.28157395,\n",
       "         1.41925534, -0.25094281],\n",
       "       [-0.76970958, -0.65982888, -1.18803559, ...,  3.55146494,\n",
       "        -0.70459485, -0.25094281]])"
      ]
     },
     "execution_count": 11,
     "metadata": {},
     "output_type": "execute_result"
    }
   ],
   "source": [
    "training_x  # ei kane dektesi Data -2 theke +2 er bitore "
   ]
  },
  {
   "cell_type": "code",
   "execution_count": 12,
   "metadata": {},
   "outputs": [
    {
     "data": {
      "text/plain": [
       "array([[-0.87321246, -0.5527708 , -1.08130975, ..., -0.26111648,\n",
       "         1.48477118,  3.82970843],\n",
       "       [ 1.14519667, -0.5527708 ,  0.92480439, ..., -0.26111648,\n",
       "        -0.67350445, -0.26111648],\n",
       "       [-0.87321246,  1.80906807, -1.08130975, ..., -0.26111648,\n",
       "         1.48477118, -0.26111648],\n",
       "       ...,\n",
       "       [ 1.14519667, -0.5527708 , -1.08130975, ..., -0.26111648,\n",
       "        -0.67350445, -0.26111648],\n",
       "       [ 1.14519667, -0.5527708 ,  0.92480439, ..., -0.26111648,\n",
       "        -0.67350445, -0.26111648],\n",
       "       [ 1.14519667, -0.5527708 , -1.08130975, ..., -0.26111648,\n",
       "        -0.67350445, -0.26111648]])"
      ]
     },
     "execution_count": 12,
     "metadata": {},
     "output_type": "execute_result"
    }
   ],
   "source": [
    "test_x      # ei kane dektesi Data -2 theke +2 er bitore "
   ]
  },
  {
   "cell_type": "code",
   "execution_count": 13,
   "metadata": {},
   "outputs": [],
   "source": [
    "from sklearn.neighbors import KNeighborsClassifier"
   ]
  },
  {
   "cell_type": "code",
   "execution_count": 14,
   "metadata": {},
   "outputs": [
    {
     "data": {
      "text/plain": [
       "KNeighborsClassifier()"
      ]
     },
     "execution_count": 14,
     "metadata": {},
     "output_type": "execute_result"
    }
   ],
   "source": [
    "classifer = KNeighborsClassifier(n_neighbors=5,metric='minkowski',p=2)\n",
    "classifer.fit(training_x,training_y,)"
   ]
  },
  {
   "cell_type": "code",
   "execution_count": 15,
   "metadata": {},
   "outputs": [
    {
     "data": {
      "text/plain": [
       "array(['Congenital Glaucoma', 'Catracts', 'Oculer hypertension',\n",
       "       'Congenital Glaucoma', 'Catracts', 'Catracts', 'Glaucoma ACG',\n",
       "       'Catracts', 'Catracts', 'Glaucoma ACG', ' Bulgy Vision',\n",
       "       'Catracts', 'Oculer hypertension', 'Oculer hypertension',\n",
       "       'Oculer hypertension', 'Catracts', 'Oculer hypertension',\n",
       "       'Catracts', 'Glaucoma ACG', 'Catracts', 'Catracts', 'Catracts',\n",
       "       'Oculer hypertension', 'Oculer hypertension',\n",
       "       'Oculer hypertension', 'Catracts', 'Oculer hypertension',\n",
       "       'Catracts', 'Oculer hypertension', 'Congenital Glaucoma',\n",
       "       'Catracts', ' Bulgy Vision', 'Oculer hypertension', 'Catracts',\n",
       "       'Glaucoma ACG', 'Glaucoma ACG', 'Congenital Glaucoma', 'Catracts',\n",
       "       'Glaucoma ACG', 'Oculer hypertension', 'Catracts',\n",
       "       'Congenital Glaucoma', 'Oculer hypertension', 'Catracts',\n",
       "       'Glaucoma ACG', 'Catracts', 'Catracts', 'Catracts', 'Catracts',\n",
       "       'Catracts', ' Bulgy Vision', 'Catracts', 'Catracts', 'Catracts',\n",
       "       'Catracts', ' Bulgy Vision', 'Catracts', 'Oculer hypertension',\n",
       "       'Glaucoma ACG', 'Congenital Glaucoma', 'Catracts',\n",
       "       'Oculer hypertension', 'Catracts', 'Glaucoma ACG',\n",
       "       'Oculer hypertension', 'Congenital Glaucoma', 'Glaucoma ACG',\n",
       "       'Congenital Glaucoma', 'Catracts', 'Oculer hypertension',\n",
       "       'Catracts', 'Oculer hypertension', 'Oculer hypertension',\n",
       "       'Congenital Glaucoma', 'Bulgy Vision', 'Oculer hypertension',\n",
       "       'Oculer hypertension', 'Oculer hypertension',\n",
       "       'Congenital Glaucoma', 'Catracts', 'Oculer hypertension',\n",
       "       'Glaucoma ACG', 'Catracts', 'Oculer hypertension',\n",
       "       'Congenital Glaucoma', 'Catracts', 'Catracts',\n",
       "       'Oculer hypertension', 'Catracts', 'Catracts', ' Bulgy Vision',\n",
       "       'Bulgy Vision', 'Oculer hypertension', 'Congenital Glaucoma',\n",
       "       'Glaucoma ACG', 'Catracts', 'Congenital Glaucoma', 'Catracts',\n",
       "       'Catracts', 'Catracts', 'Glaucoma ACG', 'Catracts',\n",
       "       'Oculer hypertension', 'Oculer hypertension', 'Catracts',\n",
       "       'Catracts', 'Catracts', 'Glaucoma ACG', 'Catracts',\n",
       "       ' Bulgy Vision', 'Catracts', 'Oculer hypertension',\n",
       "       'Oculer hypertension', 'Congenital Glaucoma', 'Catracts',\n",
       "       'Oculer hypertension', ' Bulgy Vision', 'Oculer hypertension',\n",
       "       'Catracts', 'Catracts', 'Catracts', 'Catracts',\n",
       "       'Oculer hypertension', 'Glaucoma ACG', 'Catracts',\n",
       "       'Oculer hypertension', 'Oculer hypertension', 'Catracts',\n",
       "       'Catracts', 'Catracts', 'Catracts', 'Oculer hypertension',\n",
       "       'Catracts', 'Catracts', 'Oculer hypertension',\n",
       "       'Oculer hypertension', 'Catracts', 'Oculer hypertension',\n",
       "       'Catracts', 'Catracts', 'Catracts'], dtype=object)"
      ]
     },
     "execution_count": 15,
     "metadata": {},
     "output_type": "execute_result"
    }
   ],
   "source": [
    "y_pred = classifer.predict(test_x)\n",
    "y_pred # Prediction er value"
   ]
  },
  {
   "cell_type": "code",
   "execution_count": 16,
   "metadata": {},
   "outputs": [
    {
     "data": {
      "text/plain": [
       "array(['Congenital Glaucoma', 'Catracts', 'Oculer hypertension',\n",
       "       'Congenital Glaucoma', 'Catracts', 'Catracts', 'Glaucoma ACG',\n",
       "       'Catracts', 'Catracts', 'Glaucoma ACG', ' Bulgy Vision',\n",
       "       'Catracts', 'Oculer hypertension', 'Oculer hypertension',\n",
       "       'Oculer hypertension', 'Catracts', 'Oculer hypertension',\n",
       "       'Catracts', 'Glaucoma ACG', 'Catracts', 'Catracts', 'Catracts',\n",
       "       'Oculer hypertension', 'Oculer hypertension',\n",
       "       'Oculer hypertension', 'Catracts', 'Oculer hypertension',\n",
       "       'Catracts', 'Oculer hypertension', 'Congenital Glaucoma',\n",
       "       'Catracts', 'Bulgy Vision', 'Oculer hypertension', 'Catracts',\n",
       "       'Glaucoma ACG', 'Glaucoma ACG', 'Congenital Glaucoma', 'Catracts',\n",
       "       'Glaucoma ACG', 'Oculer hypertension', 'Catracts',\n",
       "       'Congenital Glaucoma', 'Congenital Glaucoma', 'Catracts',\n",
       "       'Glaucoma ACG', 'Catracts', 'Catracts', 'Catracts', 'Catracts',\n",
       "       'Congenital Glaucoma', 'Bulgy Vision', 'Catracts', 'Catracts',\n",
       "       'Catracts', 'Catracts', 'Bulgy Vision', 'Catracts',\n",
       "       'Congenital Glaucoma', 'Glaucoma ACG', 'Congenital Glaucoma',\n",
       "       'Catracts', 'Oculer hypertension', 'Catracts', 'Glaucoma ACG',\n",
       "       'Oculer hypertension', 'Congenital Glaucoma', 'Glaucoma ACG',\n",
       "       'Congenital Glaucoma', 'Catracts', 'Oculer hypertension',\n",
       "       'Catracts', 'Oculer hypertension', 'Oculer hypertension',\n",
       "       'Congenital Glaucoma', 'Bulgy Vision', 'Oculer hypertension',\n",
       "       'Oculer hypertension', 'Oculer hypertension',\n",
       "       'Congenital Glaucoma', 'Catracts', 'Oculer hypertension',\n",
       "       'Glaucoma ACG', 'Catracts', 'Oculer hypertension', 'Catracts',\n",
       "       'Catracts', 'Catracts', 'Oculer hypertension', 'Catracts',\n",
       "       'Catracts', ' Bulgy Vision', ' Bulgy Vision',\n",
       "       'Oculer hypertension', 'Congenital Glaucoma', 'Glaucoma ACG',\n",
       "       'Catracts', 'Congenital Glaucoma', 'Catracts', 'Catracts',\n",
       "       'Catracts', 'Glaucoma ACG', 'Catracts', 'Oculer hypertension',\n",
       "       'Oculer hypertension', 'Catracts', 'Catracts', 'Catracts',\n",
       "       'Glaucoma ACG', 'Catracts', 'Bulgy Vision', 'Catracts',\n",
       "       'Oculer hypertension', 'Oculer hypertension',\n",
       "       'Congenital Glaucoma', 'Catracts', 'Oculer hypertension',\n",
       "       ' Bulgy Vision', 'Oculer hypertension', 'Catracts', 'Catracts',\n",
       "       'Catracts', 'Catracts', 'Oculer hypertension', 'Glaucoma ACG',\n",
       "       'Catracts', 'Oculer hypertension', 'Oculer hypertension',\n",
       "       'Catracts', 'Catracts', 'Catracts', 'Catracts',\n",
       "       'Oculer hypertension', 'Catracts', 'Catracts',\n",
       "       'Oculer hypertension', 'Oculer hypertension', 'Catracts',\n",
       "       'Oculer hypertension', 'Catracts', 'Catracts', 'Catracts'],\n",
       "      dtype=object)"
      ]
     },
     "execution_count": 16,
     "metadata": {},
     "output_type": "execute_result"
    }
   ],
   "source": [
    "test_y  # Real Data er value"
   ]
  },
  {
   "cell_type": "code",
   "execution_count": 17,
   "metadata": {},
   "outputs": [],
   "source": [
    "# test case\n",
    "prediction_disease = classifer.predict([[1,0,0,0,0,0,1,0,1,0,0,1,0,1,0,0,0,0,0]]) # 3 no Row # input Symptomps for prediction"
   ]
  },
  {
   "cell_type": "code",
   "execution_count": 18,
   "metadata": {},
   "outputs": [
    {
     "data": {
      "text/plain": [
       "array(['Catracts'], dtype=object)"
      ]
     },
     "execution_count": 18,
     "metadata": {},
     "output_type": "execute_result"
    }
   ],
   "source": [
    "prediction_disease # prediction"
   ]
  },
  {
   "cell_type": "code",
   "execution_count": 19,
   "metadata": {},
   "outputs": [],
   "source": [
    "# Another test case\n",
    "prediction_disease = classifer.predict([[0,1,1,0,0,0,0,0,1,1,1,1,0,0,0,0,0,1,0]]) # 50 no Row # input Symptomps for prediction"
   ]
  },
  {
   "cell_type": "code",
   "execution_count": 20,
   "metadata": {},
   "outputs": [
    {
     "data": {
      "text/plain": [
       "array(['Oculer hypertension'], dtype=object)"
      ]
     },
     "execution_count": 20,
     "metadata": {},
     "output_type": "execute_result"
    }
   ],
   "source": [
    "prediction_disease # prediction"
   ]
  },
  {
   "cell_type": "code",
   "execution_count": 21,
   "metadata": {},
   "outputs": [],
   "source": [
    "# Another test case\n",
    "prediction_disease = classifer.predict([[0,0,0,1,0,0,0,0,0,0,1,0,0,0,1,0,0,0,1]]) # input Symptomps for prediction "
   ]
  },
  {
   "cell_type": "code",
   "execution_count": 22,
   "metadata": {},
   "outputs": [
    {
     "data": {
      "text/plain": [
       "array(['Oculer hypertension'], dtype=object)"
      ]
     },
     "execution_count": 22,
     "metadata": {},
     "output_type": "execute_result"
    }
   ],
   "source": [
    "prediction_disease # prediction"
   ]
  },
  {
   "cell_type": "markdown",
   "metadata": {},
   "source": [
    "# confus_matrix"
   ]
  },
  {
   "cell_type": "code",
   "execution_count": 23,
   "metadata": {},
   "outputs": [],
   "source": [
    "from sklearn.metrics import confusion_matrix"
   ]
  },
  {
   "cell_type": "code",
   "execution_count": 24,
   "metadata": {},
   "outputs": [
    {
     "data": {
      "text/plain": [
       "array([[ 3,  1,  0,  0,  0,  0],\n",
       "       [ 4,  1,  0,  0,  0,  0],\n",
       "       [ 0,  0, 63,  1,  0,  0],\n",
       "       [ 0,  0,  1, 13,  0,  2],\n",
       "       [ 0,  0,  0,  0, 15,  0],\n",
       "       [ 0,  0,  0,  0,  0, 37]], dtype=int64)"
      ]
     },
     "execution_count": 24,
     "metadata": {},
     "output_type": "execute_result"
    }
   ],
   "source": [
    "confus_matrix = confusion_matrix(test_y,y_pred)  # y_true = Real Value, y_pred = Prediction er value\n",
    "confus_matrix"
   ]
  },
  {
   "cell_type": "markdown",
   "metadata": {},
   "source": [
    "# Accuracy"
   ]
  },
  {
   "cell_type": "code",
   "execution_count": 25,
   "metadata": {},
   "outputs": [
    {
     "name": "stdout",
     "output_type": "stream",
     "text": [
      "Accuracy :  0.9361702127659575\n"
     ]
    }
   ],
   "source": [
    "from sklearn.metrics import accuracy_score \n",
    "print (\"Accuracy : \", accuracy_score(test_y, y_pred))"
   ]
  },
  {
   "cell_type": "code",
   "execution_count": 26,
   "metadata": {},
   "outputs": [
    {
     "name": "stdout",
     "output_type": "stream",
     "text": [
      "93.61702127659575\n"
     ]
    }
   ],
   "source": [
    "print (accuracy_score(test_y, y_pred)*100) # Accuracy"
   ]
  },
  {
   "cell_type": "markdown",
   "metadata": {},
   "source": [
    "# precision, recall, f1-score, support"
   ]
  },
  {
   "cell_type": "code",
   "execution_count": 27,
   "metadata": {},
   "outputs": [
    {
     "name": "stdout",
     "output_type": "stream",
     "text": [
      "                     precision    recall  f1-score   support\n",
      "\n",
      "       Bulgy Vision       0.43      0.75      0.55         4\n",
      "       Bulgy Vision       0.50      0.20      0.29         5\n",
      "           Catracts       0.98      0.98      0.98        64\n",
      "Congenital Glaucoma       0.93      0.81      0.87        16\n",
      "       Glaucoma ACG       1.00      1.00      1.00        15\n",
      "Oculer hypertension       0.95      1.00      0.97        37\n",
      "\n",
      "           accuracy                           0.94       141\n",
      "          macro avg       0.80      0.79      0.78       141\n",
      "       weighted avg       0.94      0.94      0.93       141\n",
      "\n"
     ]
    }
   ],
   "source": [
    "from sklearn.metrics import classification_report\n",
    "print(classification_report(test_y, y_pred))"
   ]
  },
  {
   "cell_type": "code",
   "execution_count": null,
   "metadata": {},
   "outputs": [],
   "source": []
  }
 ],
 "metadata": {
  "kernelspec": {
   "display_name": "Python 3",
   "language": "python",
   "name": "python3"
  },
  "language_info": {
   "codemirror_mode": {
    "name": "ipython",
    "version": 3
   },
   "file_extension": ".py",
   "mimetype": "text/x-python",
   "name": "python",
   "nbconvert_exporter": "python",
   "pygments_lexer": "ipython3",
   "version": "3.7.9"
  }
 },
 "nbformat": 4,
 "nbformat_minor": 4
}
